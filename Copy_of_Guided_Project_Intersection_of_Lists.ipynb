{
  "nbformat": 4,
  "nbformat_minor": 0,
  "metadata": {
    "kernelspec": {
      "display_name": "Python 3",
      "language": "python",
      "name": "python3"
    },
    "language_info": {
      "codemirror_mode": {
        "name": "ipython",
        "version": 3
      },
      "file_extension": ".py",
      "mimetype": "text/x-python",
      "name": "python",
      "nbconvert_exporter": "python",
      "pygments_lexer": "ipython3",
      "version": "3.7.1"
    },
    "colab": {
      "name": "Copy of Guided Project - Intersection of Lists.ipynb",
      "provenance": [],
      "collapsed_sections": [],
      "include_colab_link": true
    }
  },
  "cells": [
    {
      "cell_type": "markdown",
      "metadata": {
        "id": "view-in-github",
        "colab_type": "text"
      },
      "source": [
        "<a href=\"https://colab.research.google.com/github/thisisraj57/Guided-Project---Intersection-of-Lists/blob/main/Copy_of_Guided_Project_Intersection_of_Lists.ipynb\" target=\"_parent\"><img src=\"https://colab.research.google.com/assets/colab-badge.svg\" alt=\"Open In Colab\"/></a>"
      ]
    },
    {
      "cell_type": "markdown",
      "metadata": {
        "id": "rtBrwN-Aexbo"
      },
      "source": [
        "Given a list of n lists, write a function which returns the intersection of all the n lists. Each list can have any number of elements.\n",
        "\n",
        "Example 1:\n",
        "\n",
        "```\n",
        "input = [[5, 5, 5, 8, 10], \n",
        "      [5, 5, 7, 8], \n",
        "      [5, 5, 8, 9, 11]]\n",
        "```\n",
        "\n",
        "```\n",
        "output = [5, 5, 8]\n",
        "```\n",
        "\n",
        "Example 2:\n",
        "\n",
        "```\n",
        "input = [[5, 6], \n",
        "      [5, 5, 7, 8], \n",
        "      [5, 5, 8, 9]]\n",
        "```\n",
        "\n",
        "\n",
        "```\n",
        "output = [5]\n",
        "```"
      ]
    },
    {
      "cell_type": "code",
      "metadata": {
        "id": "0v5JAQJVgg4l"
      },
      "source": [
        "input = [[5, 5, 5, 8, 10], \n",
        "      [5, 5, 7, 8], \n",
        "      [5, 5, 8, 9, 11]]"
      ],
      "execution_count": 13,
      "outputs": []
    },
    {
      "cell_type": "code",
      "metadata": {
        "colab": {
          "base_uri": "https://localhost:8080/"
        },
        "id": "C8-OZczmgzey",
        "outputId": "937fb8e5-c6e8-4052-c8b7-c8dd48704f13"
      },
      "source": [
        "input"
      ],
      "execution_count": 14,
      "outputs": [
        {
          "output_type": "execute_result",
          "data": {
            "text/plain": [
              "[[5, 5, 5, 8, 10], [5, 5, 7, 8], [5, 5, 8, 9, 11]]"
            ]
          },
          "metadata": {
            "tags": []
          },
          "execution_count": 14
        }
      ]
    },
    {
      "cell_type": "code",
      "metadata": {
        "id": "rF_HGu8cg2g3"
      },
      "source": [
        "List_A= [5,5,5,8,10]\n",
        "list_B= [5, 5, 7, 8]\n",
        "list_C= [5, 5, 8, 9, 11]"
      ],
      "execution_count": 15,
      "outputs": []
    },
    {
      "cell_type": "code",
      "metadata": {
        "id": "ZblHNLyDhLWg"
      },
      "source": [
        "# First step- write a function to find list of minimum length\n",
        "# Second step we- will try to find the keys and values (create frequency mapping function)\n",
        "# Thirsd step- updating the frequency mapping with respect to all other list wiht all inputs which we have\n",
        "# Fouth step - to convert dictionary into list"
      ],
      "execution_count": 16,
      "outputs": []
    },
    {
      "cell_type": "code",
      "metadata": {
        "id": "_HY1ztVKmCnK"
      },
      "source": [
        "#find list of minimum length"
      ],
      "execution_count": 17,
      "outputs": []
    },
    {
      "cell_type": "code",
      "metadata": {
        "id": "MlG0gcV8o0be"
      },
      "source": [
        "lsts= [[5, 5, 5, 8, 10], \n",
        "      [5, 5, 7, 8], \n",
        "      [5, 5, 8, 9, 11]]"
      ],
      "execution_count": 29,
      "outputs": []
    },
    {
      "cell_type": "code",
      "metadata": {
        "id": "pb4cEaftmDOe"
      },
      "source": [
        "def get_min_len_list(lsts):\n",
        "  min_length= len(lsts[0])\n",
        "  for l in lsts:\n",
        "      if len(l)<=min_len:\n",
        "        min_len=len(l)\n",
        "        min_len_list =1\n",
        "  return(min_len_list)"
      ],
      "execution_count": 37,
      "outputs": []
    },
    {
      "cell_type": "code",
      "metadata": {
        "colab": {
          "base_uri": "https://localhost:8080/",
          "height": 282
        },
        "id": "CD9pXlEcm9iR",
        "outputId": "034596e1-46f2-4010-d73f-09639e926565"
      },
      "source": [
        "get_min_len_list(lsts)\n"
      ],
      "execution_count": 40,
      "outputs": [
        {
          "output_type": "error",
          "ename": "UnboundLocalError",
          "evalue": "ignored",
          "traceback": [
            "\u001b[0;31m---------------------------------------------------------------------------\u001b[0m",
            "\u001b[0;31mUnboundLocalError\u001b[0m                         Traceback (most recent call last)",
            "\u001b[0;32m<ipython-input-40-03a4bff8a089>\u001b[0m in \u001b[0;36m<module>\u001b[0;34m()\u001b[0m\n\u001b[0;32m----> 1\u001b[0;31m \u001b[0mget_min_len_list\u001b[0m\u001b[0;34m(\u001b[0m\u001b[0mlsts\u001b[0m\u001b[0;34m)\u001b[0m\u001b[0;34m\u001b[0m\u001b[0;34m\u001b[0m\u001b[0m\n\u001b[0m",
            "\u001b[0;32m<ipython-input-37-6b8664a3c901>\u001b[0m in \u001b[0;36mget_min_len_list\u001b[0;34m(lsts)\u001b[0m\n\u001b[1;32m      2\u001b[0m   \u001b[0mmin_length\u001b[0m\u001b[0;34m=\u001b[0m \u001b[0mlen\u001b[0m\u001b[0;34m(\u001b[0m\u001b[0mlsts\u001b[0m\u001b[0;34m[\u001b[0m\u001b[0;36m0\u001b[0m\u001b[0;34m]\u001b[0m\u001b[0;34m)\u001b[0m\u001b[0;34m\u001b[0m\u001b[0;34m\u001b[0m\u001b[0m\n\u001b[1;32m      3\u001b[0m   \u001b[0;32mfor\u001b[0m \u001b[0ml\u001b[0m \u001b[0;32min\u001b[0m \u001b[0mlsts\u001b[0m\u001b[0;34m:\u001b[0m\u001b[0;34m\u001b[0m\u001b[0;34m\u001b[0m\u001b[0m\n\u001b[0;32m----> 4\u001b[0;31m       \u001b[0;32mif\u001b[0m \u001b[0mlen\u001b[0m\u001b[0;34m(\u001b[0m\u001b[0ml\u001b[0m\u001b[0;34m)\u001b[0m\u001b[0;34m<=\u001b[0m\u001b[0mmin_len\u001b[0m\u001b[0;34m:\u001b[0m\u001b[0;34m\u001b[0m\u001b[0;34m\u001b[0m\u001b[0m\n\u001b[0m\u001b[1;32m      5\u001b[0m         \u001b[0mmin_len\u001b[0m\u001b[0;34m=\u001b[0m\u001b[0mlen\u001b[0m\u001b[0;34m(\u001b[0m\u001b[0ml\u001b[0m\u001b[0;34m)\u001b[0m\u001b[0;34m\u001b[0m\u001b[0;34m\u001b[0m\u001b[0m\n\u001b[1;32m      6\u001b[0m         \u001b[0mmin_len_list\u001b[0m \u001b[0;34m=\u001b[0m\u001b[0;36m1\u001b[0m\u001b[0;34m\u001b[0m\u001b[0;34m\u001b[0m\u001b[0m\n",
            "\u001b[0;31mUnboundLocalError\u001b[0m: local variable 'min_len' referenced before assignment"
          ]
        }
      ]
    },
    {
      "cell_type": "code",
      "metadata": {
        "id": "uMrrZnzhsKwN"
      },
      "source": [
        "def get_min_len_list(lsts):\n",
        "  d= ()\n",
        "  for elem in min_len_list:\n",
        "    if elem in d.keys():\n",
        "      d[elem] = d[elem]+1\n",
        "    else:\n",
        "      d[elem] =1\n",
        "  return d"
      ],
      "execution_count": 42,
      "outputs": []
    },
    {
      "cell_type": "code",
      "metadata": {
        "id": "eMm9MkFAtSvr"
      },
      "source": [
        ""
      ],
      "execution_count": null,
      "outputs": []
    },
    {
      "cell_type": "code",
      "metadata": {
        "id": "RdmDhwSVo-mJ"
      },
      "source": [
        ""
      ],
      "execution_count": null,
      "outputs": []
    }
  ]
}